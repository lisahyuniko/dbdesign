{
 "cells": [
  {
   "cell_type": "markdown",
   "metadata": {},
   "source": [
    "I would like to introduce new dimension called Inter-Purchase Time(T) to the traditional RFM (Recency, Frequency and Monatery) Model. New attribute \"T\" will include the customer dynamic purchasing behaviour within their shopping cycle.\n",
    "But why RFMT? \n",
    "RFM Model was proposed by Hughes in 1994 to analyze customer behaviors. Implementing RFM Model permanently is challenging due to the unpredictable nature of human behavior and the potential for inaccurate results. Therefore, it is vital to include criteria which explain the buying habit of individuals.\n",
    "\n",
    "Customer segmentation is a process of dividing all customers into distinct groups that share similar characteristics, such as demographics, interests, patterns, or location, and can help a business focus marketing efforts and resources on valuable, loyal customers to achieve business goals.Customer segmentation can be performed with customers’ demographic, geographic, behavioral, and psychological data.Digital business has increased rapidly during covid-19 and it is extremely important to maintain long-term relationship with customer.In US, 85% of new product launch was reported failed because for poor market segmentaton.therefore, more study and improvments is required on the consumer behavioural and engagement.\n"
   ]
  },
  {
   "cell_type": "code",
   "execution_count": 1,
   "metadata": {
    "_kg_hide-input": true,
    "execution": {
     "iopub.execute_input": "2023-07-08T14:08:53.410002Z",
     "iopub.status.busy": "2023-07-08T14:08:53.409585Z",
     "iopub.status.idle": "2023-07-08T14:08:53.418831Z",
     "shell.execute_reply": "2023-07-08T14:08:53.41767Z",
     "shell.execute_reply.started": "2023-07-08T14:08:53.409971Z"
    }
   },
   "outputs": [],
   "source": [
    "import pandas as pd\n",
    "import numpy as np\n",
    "import datetime as dt\n",
    "import seaborn as sns\n",
    "import matplotlib\n",
    "%matplotlib inline\n",
    "import matplotlib.pyplot as plt\n",
    "from sklearn.cluster import KMeans\n",
    "from sklearn.preprocessing import StandardScaler\n",
    "from yellowbrick.cluster import KElbowVisualizer\n",
    "from numpy import math\n",
    "import warnings\n",
    "warnings.simplefilter(action='ignore', category=FutureWarning)"
   ]
  },
  {
   "cell_type": "markdown",
   "metadata": {},
   "source": [
    "# Loading and reading the dataset"
   ]
  },
  {
   "cell_type": "code",
   "execution_count": 2,
   "metadata": {
    "execution": {
     "iopub.execute_input": "2023-07-08T14:08:53.446216Z",
     "iopub.status.busy": "2023-07-08T14:08:53.445943Z",
     "iopub.status.idle": "2023-07-08T14:08:54.940382Z",
     "shell.execute_reply": "2023-07-08T14:08:54.939425Z",
     "shell.execute_reply.started": "2023-07-08T14:08:53.446193Z"
    }
   },
   "outputs": [
    {
     "name": "stdout",
     "output_type": "stream",
     "text": [
      "--------------------------------------------------\n",
      " Data imported successfully!!\n"
     ]
    },
    {
     "data": {
      "text/html": [
       "<div>\n",
       "<style scoped>\n",
       "    .dataframe tbody tr th:only-of-type {\n",
       "        vertical-align: middle;\n",
       "    }\n",
       "\n",
       "    .dataframe tbody tr th {\n",
       "        vertical-align: top;\n",
       "    }\n",
       "\n",
       "    .dataframe thead th {\n",
       "        text-align: right;\n",
       "    }\n",
       "</style>\n",
       "<table border=\"1\" class=\"dataframe\">\n",
       "  <thead>\n",
       "    <tr style=\"text-align: right;\">\n",
       "      <th></th>\n",
       "      <th>Invoice</th>\n",
       "      <th>StockCode</th>\n",
       "      <th>Description</th>\n",
       "      <th>Quantity</th>\n",
       "      <th>InvoiceDate</th>\n",
       "      <th>Price</th>\n",
       "      <th>Customer ID</th>\n",
       "      <th>Country</th>\n",
       "    </tr>\n",
       "  </thead>\n",
       "  <tbody>\n",
       "    <tr>\n",
       "      <th>0</th>\n",
       "      <td>489434</td>\n",
       "      <td>85048</td>\n",
       "      <td>15CM CHRISTMAS GLASS BALL 20 LIGHTS</td>\n",
       "      <td>12</td>\n",
       "      <td>12/1/09 7:45</td>\n",
       "      <td>6.95</td>\n",
       "      <td>13085.0</td>\n",
       "      <td>United Kingdom</td>\n",
       "    </tr>\n",
       "    <tr>\n",
       "      <th>1</th>\n",
       "      <td>489434</td>\n",
       "      <td>79323P</td>\n",
       "      <td>PINK CHERRY LIGHTS</td>\n",
       "      <td>12</td>\n",
       "      <td>12/1/09 7:45</td>\n",
       "      <td>6.75</td>\n",
       "      <td>13085.0</td>\n",
       "      <td>United Kingdom</td>\n",
       "    </tr>\n",
       "    <tr>\n",
       "      <th>2</th>\n",
       "      <td>489434</td>\n",
       "      <td>79323W</td>\n",
       "      <td>WHITE CHERRY LIGHTS</td>\n",
       "      <td>12</td>\n",
       "      <td>12/1/09 7:45</td>\n",
       "      <td>6.75</td>\n",
       "      <td>13085.0</td>\n",
       "      <td>United Kingdom</td>\n",
       "    </tr>\n",
       "    <tr>\n",
       "      <th>3</th>\n",
       "      <td>489434</td>\n",
       "      <td>22041</td>\n",
       "      <td>RECORD FRAME 7\" SINGLE SIZE</td>\n",
       "      <td>48</td>\n",
       "      <td>12/1/09 7:45</td>\n",
       "      <td>2.10</td>\n",
       "      <td>13085.0</td>\n",
       "      <td>United Kingdom</td>\n",
       "    </tr>\n",
       "    <tr>\n",
       "      <th>4</th>\n",
       "      <td>489434</td>\n",
       "      <td>21232</td>\n",
       "      <td>STRAWBERRY CERAMIC TRINKET BOX</td>\n",
       "      <td>24</td>\n",
       "      <td>12/1/09 7:45</td>\n",
       "      <td>1.25</td>\n",
       "      <td>13085.0</td>\n",
       "      <td>United Kingdom</td>\n",
       "    </tr>\n",
       "  </tbody>\n",
       "</table>\n",
       "</div>"
      ],
      "text/plain": [
       "  Invoice StockCode                          Description  Quantity  \\\n",
       "0  489434     85048  15CM CHRISTMAS GLASS BALL 20 LIGHTS        12   \n",
       "1  489434    79323P                   PINK CHERRY LIGHTS        12   \n",
       "2  489434    79323W                  WHITE CHERRY LIGHTS        12   \n",
       "3  489434     22041         RECORD FRAME 7\" SINGLE SIZE         48   \n",
       "4  489434     21232       STRAWBERRY CERAMIC TRINKET BOX        24   \n",
       "\n",
       "    InvoiceDate  Price  Customer ID         Country  \n",
       "0  12/1/09 7:45   6.95      13085.0  United Kingdom  \n",
       "1  12/1/09 7:45   6.75      13085.0  United Kingdom  \n",
       "2  12/1/09 7:45   6.75      13085.0  United Kingdom  \n",
       "3  12/1/09 7:45   2.10      13085.0  United Kingdom  \n",
       "4  12/1/09 7:45   1.25      13085.0  United Kingdom  "
      ]
     },
     "execution_count": 2,
     "metadata": {},
     "output_type": "execute_result"
    }
   ],
   "source": [
    "#lETS READ THE DATASET...\n",
    "data = pd.read_csv('db_online.csv')\n",
    "print(\"-\"*50)\n",
    "print(\" Data imported successfully!!\")\n",
    "data.head(5)"
   ]
  },
  {
   "cell_type": "markdown",
   "metadata": {},
   "source": [
    "# Exploring info"
   ]
  },
  {
   "cell_type": "code",
   "execution_count": 3,
   "metadata": {
    "execution": {
     "iopub.execute_input": "2023-07-08T14:08:54.943236Z",
     "iopub.status.busy": "2023-07-08T14:08:54.942559Z",
     "iopub.status.idle": "2023-07-08T14:09:01.422441Z",
     "shell.execute_reply": "2023-07-08T14:09:01.421393Z",
     "shell.execute_reply.started": "2023-07-08T14:08:54.943201Z"
    }
   },
   "outputs": [
    {
     "name": "stdout",
     "output_type": "stream",
     "text": [
      "------------------------------------------------------ SHAPE OF DATASET -----------------------------------------------------\n",
      "Rows:1048575\n",
      "Columns:8\n",
      "------------------------------------------------------------ HEAD -----------------------------------------------------------\n",
      "  Invoice StockCode                          Description  Quantity  \\\n",
      "0  489434     85048  15CM CHRISTMAS GLASS BALL 20 LIGHTS        12   \n",
      "1  489434    79323P                   PINK CHERRY LIGHTS        12   \n",
      "2  489434    79323W                  WHITE CHERRY LIGHTS        12   \n",
      "3  489434     22041         RECORD FRAME 7\" SINGLE SIZE         48   \n",
      "4  489434     21232       STRAWBERRY CERAMIC TRINKET BOX        24   \n",
      "\n",
      "    InvoiceDate  Price  Customer ID         Country  \n",
      "0  12/1/09 7:45   6.95      13085.0  United Kingdom  \n",
      "1  12/1/09 7:45   6.75      13085.0  United Kingdom  \n",
      "2  12/1/09 7:45   6.75      13085.0  United Kingdom  \n",
      "3  12/1/09 7:45   2.10      13085.0  United Kingdom  \n",
      "4  12/1/09 7:45   1.25      13085.0  United Kingdom  \n",
      "----------------------------------------------------------DATA TYPES---------------------------------------------------------\n",
      "object     5\n",
      "float64    2\n",
      "int64      1\n",
      "Name: count, dtype: int64\n",
      "------------------------------------------------------- MISSING VALUES ------------------------------------------------------\n",
      "Customer ID    236682\n",
      "Description      4372\n",
      "dtype: int64\n",
      "----------------------------------------------------- DUPLICATED VALUES -----------------------------------------------------\n",
      "34150\n",
      "----------------------------------------------------- STATISTICS OF DATA ----------------------------------------------------\n",
      "        Invoice StockCode                         Description      Quantity  \\\n",
      "count   1048575   1048575                             1044203  1.048575e+06   \n",
      "unique    52961      5304                                5692           NaN   \n",
      "top      537434    85123A  WHITE HANGING HEART T-LIGHT HOLDER           NaN   \n",
      "freq       1350      5781                                5875           NaN   \n",
      "mean        NaN       NaN                                 NaN  9.957525e+00   \n",
      "std         NaN       NaN                                 NaN  1.335187e+02   \n",
      "min         NaN       NaN                                 NaN -7.421500e+04   \n",
      "25%         NaN       NaN                                 NaN  1.000000e+00   \n",
      "50%         NaN       NaN                                 NaN  3.000000e+00   \n",
      "75%         NaN       NaN                                 NaN  1.000000e+01   \n",
      "max         NaN       NaN                                 NaN  7.421500e+04   \n",
      "\n",
      "          InvoiceDate         Price    Customer ID         Country  \n",
      "count         1048575  1.048575e+06  811893.000000         1048575  \n",
      "unique          47046           NaN            NaN              43  \n",
      "top     12/6/10 16:57           NaN            NaN  United Kingdom  \n",
      "freq             1350           NaN            NaN          963819  \n",
      "mean              NaN  4.627346e+00   15324.712265             NaN  \n",
      "std               NaN  1.228024e+02    1697.033034             NaN  \n",
      "min               NaN -5.359436e+04   12346.000000             NaN  \n",
      "25%               NaN  1.250000e+00   13971.000000             NaN  \n",
      "50%               NaN  2.100000e+00   15260.000000             NaN  \n",
      "75%               NaN  4.150000e+00   16795.000000             NaN  \n",
      "max               NaN  3.897000e+04   18287.000000             NaN  \n",
      "----------------------------------------------------------DATA INFO----------------------------------------------------------\n",
      "<class 'pandas.core.frame.DataFrame'>\n",
      "RangeIndex: 1048575 entries, 0 to 1048574\n",
      "Data columns (total 8 columns):\n",
      " #   Column       Non-Null Count    Dtype  \n",
      "---  ------       --------------    -----  \n",
      " 0   Invoice      1048575 non-null  object \n",
      " 1   StockCode    1048575 non-null  object \n",
      " 2   Description  1044203 non-null  object \n",
      " 3   Quantity     1048575 non-null  int64  \n",
      " 4   InvoiceDate  1048575 non-null  object \n",
      " 5   Price        1048575 non-null  float64\n",
      " 6   Customer ID  811893 non-null   float64\n",
      " 7   Country      1048575 non-null  object \n",
      "dtypes: float64(2), int64(1), object(5)\n",
      "memory usage: 64.0+ MB\n",
      "None\n"
     ]
    }
   ],
   "source": [
    "pd.set_option('display.max_columns', None) \n",
    "def data_overview(df, head=5):\n",
    "    print(\" SHAPE OF DATASET \".center(125,'-'))\n",
    "    print('Rows:{}'.format(df.shape[0]))\n",
    "    print('Columns:{}'.format(df.shape[1]))\n",
    "    print(\" HEAD \".center(125,'-'))\n",
    "    print(df.head(head))\n",
    "    print(\"DATA TYPES\".center(125,'-'))\n",
    "    print(data.dtypes.value_counts())\n",
    "    print(\" MISSING VALUES \".center(125,'-'))\n",
    "    print(df.isnull().sum()[df.isnull().sum()>0].sort_values(ascending = False))\n",
    "    print(\" DUPLICATED VALUES \".center(125,'-'))\n",
    "    print(df.duplicated().sum())\n",
    "    print(\" STATISTICS OF DATA \".center(125,'-'))\n",
    "    print(df.describe(include=\"all\"))\n",
    "    print(\"DATA INFO\".center(125,'-'))\n",
    "    print(df.info())\n",
    "    \n",
    "    \n",
    "data_overview(data)"
   ]
  },
  {
   "cell_type": "markdown",
   "metadata": {},
   "source": [
    "Point to be noted\n",
    "\n",
    "The Dataset has Rows: 1067371 and Columns:8</li>\n",
    "The Dataset has 3 types of columns: strings(5), integer(1), float(2)</li>\n",
    "The Dataset has Missing values in Customer ID (243007) and Description (4382)</li>\n",
    "Invoice starts with the 'c' needs to be cleaned as it is cancelled transaction</li>\n",
    "The Dataset has duplicates</li>\n",
    "Aslo check for negative value and outliers in Quantity and Price</li>\n",
    "\n"
   ]
  },
  {
   "cell_type": "markdown",
   "metadata": {},
   "source": [
    "# Data wrangling"
   ]
  },
  {
   "cell_type": "markdown",
   "metadata": {},
   "source": [
    "<h1 style=\"color:black;font-size:16px;font-family:Georgia;text-align:left;\">1️⃣<strong>Dealing with Missing values<strong>"
   ]
  },
  {
   "cell_type": "code",
   "execution_count": 4,
   "metadata": {
    "execution": {
     "iopub.execute_input": "2023-07-08T14:09:01.424839Z",
     "iopub.status.busy": "2023-07-08T14:09:01.424489Z",
     "iopub.status.idle": "2023-07-08T14:09:01.511672Z",
     "shell.execute_reply": "2023-07-08T14:09:01.510537Z",
     "shell.execute_reply.started": "2023-07-08T14:09:01.424806Z"
    }
   },
   "outputs": [
    {
     "name": "stdout",
     "output_type": "stream",
     "text": [
      "Shape of data before removing NaN's CustomerID (1048575, 8)\n",
      "Shape of data after removing NaN's CustomerID (811893, 8)\n"
     ]
    }
   ],
   "source": [
    "#  Removing NaN's in Customer ID\n",
    "print(\"Shape of data before removing NaN's CustomerID\",data.shape)\n",
    "data.dropna(subset=\"Customer ID\",axis=0,inplace=True)\n",
    "print(\"Shape of data after removing NaN's CustomerID\",data.shape)"
   ]
  },
  {
   "cell_type": "code",
   "execution_count": 5,
   "metadata": {
    "execution": {
     "iopub.execute_input": "2023-07-08T14:09:01.516803Z",
     "iopub.status.busy": "2023-07-08T14:09:01.516354Z",
     "iopub.status.idle": "2023-07-08T14:09:03.07458Z",
     "shell.execute_reply": "2023-07-08T14:09:03.073638Z",
     "shell.execute_reply.started": "2023-07-08T14:09:01.516768Z"
    }
   },
   "outputs": [
    {
     "name": "stdout",
     "output_type": "stream",
     "text": [
      "Missing values in each column after cleaning customerID :\n",
      " Invoice        0\n",
      "StockCode      0\n",
      "Description    0\n",
      "Quantity       0\n",
      "InvoiceDate    0\n",
      "Price          0\n",
      "Customer ID    0\n",
      "Country        0\n",
      "dtype: int64\n"
     ]
    }
   ],
   "source": [
    "print(\"Missing values in each column after cleaning customerID :\\n\",data.isnull().sum())"
   ]
  },
  {
   "cell_type": "markdown",
   "metadata": {},
   "source": [
    " <ul style=\"list-style-type: disc; font-family: Georgia; color: #006400; font-size: 110%;\">\n",
    "    <li>Data looks fine now. (luckily NaNs from Description was also alligned with missing customer ID)</li>"
   ]
  },
  {
   "cell_type": "markdown",
   "metadata": {},
   "source": [
    "<h1 style=\"color:black;font-size:16px;font-family:Georgia;text-align:left;\">2️⃣<strong>Removing cancelled products from invoice<strong>"
   ]
  },
  {
   "cell_type": "code",
   "execution_count": 6,
   "metadata": {
    "execution": {
     "iopub.execute_input": "2023-07-08T14:09:03.077292Z",
     "iopub.status.busy": "2023-07-08T14:09:03.076913Z",
     "iopub.status.idle": "2023-07-08T14:09:03.568951Z",
     "shell.execute_reply": "2023-07-08T14:09:03.567972Z",
     "shell.execute_reply.started": "2023-07-08T14:09:03.077257Z"
    }
   },
   "outputs": [
    {
     "name": "stdout",
     "output_type": "stream",
     "text": [
      "Dataset is free from cancelled products information\n"
     ]
    }
   ],
   "source": [
    "#using one's compliment operator (~) we can unselect all the Invoice column which doesnt contain \"C\".\n",
    "data = data[~data.Invoice.str.contains('C',na=False)]\n",
    "print(\"Dataset is free from cancelled products information\")"
   ]
  },
  {
   "cell_type": "markdown",
   "metadata": {},
   "source": [
    "<h1 style=\"color:black;font-size:16px;font-family:Georgia;text-align:left;\">3️⃣<strong>Removing Duplicates<strong>"
   ]
  },
  {
   "cell_type": "code",
   "execution_count": 7,
   "metadata": {
    "execution": {
     "iopub.execute_input": "2023-07-08T14:09:03.570806Z",
     "iopub.status.busy": "2023-07-08T14:09:03.570452Z",
     "iopub.status.idle": "2023-07-08T14:09:05.010128Z",
     "shell.execute_reply": "2023-07-08T14:09:05.008117Z",
     "shell.execute_reply.started": "2023-07-08T14:09:03.570773Z"
    }
   },
   "outputs": [
    {
     "name": "stdout",
     "output_type": "stream",
     "text": [
      "Number of duplicates before cleaning: 25941\n",
      "Number of duplicates after cleaning: 0\n"
     ]
    }
   ],
   "source": [
    "# Removing duplicates (Values in all columns are identical)\n",
    "print(\"Number of duplicates before cleaning:\",data.duplicated().sum())\n",
    "data = data.drop_duplicates(keep=\"first\")\n",
    "print(\"Number of duplicates after cleaning:\",data.duplicated().sum())"
   ]
  },
  {
   "cell_type": "markdown",
   "metadata": {},
   "source": [
    "<h1 style=\"color:black;font-size:16px;font-family:Georgia;text-align:left;\">4️⃣<strong>Checking for negative value<strong>"
   ]
  },
  {
   "cell_type": "code",
   "execution_count": 8,
   "metadata": {
    "execution": {
     "iopub.execute_input": "2023-07-08T14:09:05.011799Z",
     "iopub.status.busy": "2023-07-08T14:09:05.011428Z",
     "iopub.status.idle": "2023-07-08T14:09:05.023248Z",
     "shell.execute_reply": "2023-07-08T14:09:05.022121Z",
     "shell.execute_reply.started": "2023-07-08T14:09:05.011765Z"
    }
   },
   "outputs": [
    {
     "name": "stdout",
     "output_type": "stream",
     "text": [
      "Negative value in Quantity is: 0\n",
      "Negative value in Price is: 0\n"
     ]
    }
   ],
   "source": [
    "print(\"Negative value in Quantity is:\",(data.Quantity<0).sum())\n",
    "print(\"Negative value in Price is:\",(data.Price<0).sum())"
   ]
  },
  {
   "cell_type": "markdown",
   "metadata": {},
   "source": [
    "<h1 style=\"color:black;font-size:16px;font-family:Georgia;text-align:left;\">5️⃣<strong>Cleaning Outliers<strong>"
   ]
  },
  {
   "cell_type": "code",
   "execution_count": 9,
   "metadata": {
    "execution": {
     "iopub.execute_input": "2023-07-08T14:09:05.025431Z",
     "iopub.status.busy": "2023-07-08T14:09:05.024858Z",
     "iopub.status.idle": "2023-07-08T14:09:05.032963Z",
     "shell.execute_reply": "2023-07-08T14:09:05.031936Z",
     "shell.execute_reply.started": "2023-07-08T14:09:05.025397Z"
    }
   },
   "outputs": [],
   "source": [
    "#defining funcation to remove outliers w.r.t its thresholds\n",
    "def outlier_thresholds(dataframe, variable):\n",
    "    quartile1 = dataframe[variable].quantile(0.01)\n",
    "    quartile3 = dataframe[variable].quantile(0.99)\n",
    "    interquantile_range = quartile3 - quartile1\n",
    "    up_limit = quartile3 + 1.5 * interquantile_range\n",
    "    low_limit = quartile1 - 1.5 * interquantile_range\n",
    "    return up_limit, low_limit\n",
    "\n",
    "def replace_with_threshold(dataframe, variable):\n",
    "    up_limit, low_limit = outlier_thresholds(dataframe, variable)\n",
    "    # dataframe.loc[(dataframe[variable] < low_limit), variable] = low_limit\n",
    "    dataframe.loc[(dataframe[variable] > up_limit), variable] = up_limit"
   ]
  },
  {
   "cell_type": "code",
   "execution_count": 10,
   "metadata": {
    "execution": {
     "iopub.execute_input": "2023-07-08T14:09:05.034917Z",
     "iopub.status.busy": "2023-07-08T14:09:05.03456Z",
     "iopub.status.idle": "2023-07-08T14:09:05.611266Z",
     "shell.execute_reply": "2023-07-08T14:09:05.610358Z",
     "shell.execute_reply.started": "2023-07-08T14:09:05.034884Z"
    }
   },
   "outputs": [
    {
     "data": {
      "image/png": "[encoded data removed]",
      "text/plain": [
       "<Figure size 2000x500 with 2 Axes>"
      ]
     },
     "metadata": {},
     "output_type": "display_data"
    }
   ],
   "source": [
    "# Observing them before removing outliers.\n",
    "f, ax = plt.subplots(2,1, figsize = (20,5))\n",
    "col_list = [\"Quantity\",\"Price\"]\n",
    "for i in range(0,2):\n",
    "    ax[i].boxplot(data[col_list[i]],flierprops = dict(marker = \"s\", markerfacecolor = \"red\"), vert = 0)\n",
    "plt.show()"
   ]
  },
  {
   "cell_type": "code",
   "execution_count": 11,
   "metadata": {
    "execution": {
     "iopub.execute_input": "2023-07-08T14:09:05.616832Z",
     "iopub.status.busy": "2023-07-08T14:09:05.616261Z",
     "iopub.status.idle": "2023-07-08T14:09:05.662177Z",
     "shell.execute_reply": "2023-07-08T14:09:05.661169Z",
     "shell.execute_reply.started": "2023-07-08T14:09:05.6168Z"
    }
   },
   "outputs": [],
   "source": [
    "# Applying the functions for remove the outlier.\n",
    "replace_with_threshold(data, \"Quantity\")\n",
    "replace_with_threshold(data, \"Price\")"
   ]
  },
  {
   "cell_type": "code",
   "execution_count": 12,
   "metadata": {
    "execution": {
     "iopub.execute_input": "2023-07-08T14:09:05.664588Z",
     "iopub.status.busy": "2023-07-08T14:09:05.663616Z",
     "iopub.status.idle": "2023-07-08T14:09:06.223446Z",
     "shell.execute_reply": "2023-07-08T14:09:06.22236Z",
     "shell.execute_reply.started": "2023-07-08T14:09:05.66455Z"
    }
   },
   "outputs": [
    {
     "data": {
      "image/png": "[encoded data removed]",
      "text/plain": [
       "<Figure size 2000x500 with 2 Axes>"
      ]
     },
     "metadata": {},
     "output_type": "display_data"
    }
   ],
   "source": [
    "# Observing them after removing outliers.\n",
    "f, ax = plt.subplots(2,1, figsize = (20,5))\n",
    "for i in range(0,2):\n",
    "    ax[i].boxplot(data[col_list[i]],flierprops = dict(marker = \"s\", markerfacecolor = \"red\"), vert = 0)\n",
    "plt.show()"
   ]
  },
  {
   "cell_type": "markdown",
   "metadata": {},
   "source": [
    "# EDA"
   ]
  },
  {
   "cell_type": "code",
   "execution_count": 13,
   "metadata": {
    "execution": {
     "iopub.execute_input": "2023-07-08T14:09:06.22583Z",
     "iopub.status.busy": "2023-07-08T14:09:06.224947Z",
     "iopub.status.idle": "2023-07-08T14:09:06.236785Z",
     "shell.execute_reply": "2023-07-08T14:09:06.235556Z",
     "shell.execute_reply.started": "2023-07-08T14:09:06.225791Z"
    }
   },
   "outputs": [],
   "source": [
    "#Creating new feature Revenue\n",
    "data[\"Revenue\"] = data[\"Quantity\"] * data[\"Price\"]"
   ]
  },
  {
   "cell_type": "code",
   "execution_count": 14,
   "metadata": {
    "execution": {
     "iopub.execute_input": "2023-07-08T14:09:06.239229Z",
     "iopub.status.busy": "2023-07-08T14:09:06.23856Z",
     "iopub.status.idle": "2023-07-08T14:09:06.418427Z",
     "shell.execute_reply": "2023-07-08T14:09:06.417418Z",
     "shell.execute_reply.started": "2023-07-08T14:09:06.239189Z"
    }
   },
   "outputs": [
    {
     "name": "stderr",
     "output_type": "stream",
     "text": [
      "/var/folders/f1/f4pv93hj5mzbv8wfv_s18dr80000gn/T/ipykernel_46195/1809970238.py:3: UserWarning: Could not infer format, so each element will be parsed individually, falling back to `dateutil`. To ensure parsing is consistent and as-expected, please specify a format.\n",
      "  data['InvoiceDate'] = pd.to_datetime(data['InvoiceDate'])\n"
     ]
    }
   ],
   "source": [
    "#Creating Features for RFM Model\n",
    "#Changing data type to datetime\n",
    "data['InvoiceDate'] = pd.to_datetime(data['InvoiceDate'])"
   ]
  },
  {
   "cell_type": "code",
   "execution_count": 15,
   "metadata": {
    "execution": {
     "iopub.execute_input": "2023-07-08T14:09:06.420368Z",
     "iopub.status.busy": "2023-07-08T14:09:06.42001Z",
     "iopub.status.idle": "2023-07-08T14:09:06.432831Z",
     "shell.execute_reply": "2023-07-08T14:09:06.431688Z",
     "shell.execute_reply.started": "2023-07-08T14:09:06.420336Z"
    }
   },
   "outputs": [
    {
     "name": "stdout",
     "output_type": "stream",
     "text": [
      "Max date : 2011-12-04 13:15:00\n",
      "Min date : 2009-12-01 07:45:00\n"
     ]
    }
   ],
   "source": [
    "print(\"Max date :\",data[\"InvoiceDate\"].max())\n",
    "print(\"Min date :\",data[\"InvoiceDate\"].min())"
   ]
  },
  {
   "cell_type": "code",
   "execution_count": 30,
   "metadata": {
    "execution": {
     "iopub.execute_input": "2023-07-08T14:09:06.435135Z",
     "iopub.status.busy": "2023-07-08T14:09:06.434388Z",
     "iopub.status.idle": "2023-07-08T14:09:08.24941Z",
     "shell.execute_reply": "2023-07-08T14:09:08.248408Z",
     "shell.execute_reply.started": "2023-07-08T14:09:06.435104Z"
    }
   },
   "outputs": [
    {
     "data": {
      "text/html": [
       "<div>\n",
       "<style scoped>\n",
       "    .dataframe tbody tr th:only-of-type {\n",
       "        vertical-align: middle;\n",
       "    }\n",
       "\n",
       "    .dataframe tbody tr th {\n",
       "        vertical-align: top;\n",
       "    }\n",
       "\n",
       "    .dataframe thead th {\n",
       "        text-align: right;\n",
       "    }\n",
       "</style>\n",
       "<table border=\"1\" class=\"dataframe\">\n",
       "  <thead>\n",
       "    <tr style=\"text-align: right;\">\n",
       "      <th></th>\n",
       "      <th>Customer ID</th>\n",
       "      <th>Recency</th>\n",
       "      <th>Frequency</th>\n",
       "      <th>Monetary</th>\n",
       "    </tr>\n",
       "  </thead>\n",
       "  <tbody>\n",
       "    <tr>\n",
       "      <th>0</th>\n",
       "      <td>12346.0</td>\n",
       "      <td>325</td>\n",
       "      <td>12</td>\n",
       "      <td>745.70</td>\n",
       "    </tr>\n",
       "    <tr>\n",
       "      <th>1</th>\n",
       "      <td>12347.0</td>\n",
       "      <td>39</td>\n",
       "      <td>7</td>\n",
       "      <td>4696.71</td>\n",
       "    </tr>\n",
       "    <tr>\n",
       "      <th>2</th>\n",
       "      <td>12348.0</td>\n",
       "      <td>75</td>\n",
       "      <td>5</td>\n",
       "      <td>1991.86</td>\n",
       "    </tr>\n",
       "    <tr>\n",
       "      <th>3</th>\n",
       "      <td>12349.0</td>\n",
       "      <td>18</td>\n",
       "      <td>4</td>\n",
       "      <td>3786.50</td>\n",
       "    </tr>\n",
       "    <tr>\n",
       "      <th>4</th>\n",
       "      <td>12350.0</td>\n",
       "      <td>310</td>\n",
       "      <td>1</td>\n",
       "      <td>331.34</td>\n",
       "    </tr>\n",
       "  </tbody>\n",
       "</table>\n",
       "</div>"
      ],
      "text/plain": [
       "   Customer ID  Recency  Frequency  Monetary\n",
       "0      12346.0      325         12    745.70\n",
       "1      12347.0       39          7   4696.71\n",
       "2      12348.0       75          5   1991.86\n",
       "3      12349.0       18          4   3786.50\n",
       "4      12350.0      310          1    331.34"
      ]
     },
     "execution_count": 30,
     "metadata": {},
     "output_type": "execute_result"
    }
   ],
   "source": [
    "#RFM Featuring\n",
    "\n",
    "#Set Latest date 2011-12-10 as last invoice date was 2011-12-09.\n",
    "Latest_Date = dt.datetime(2011,12,10)\n",
    "\n",
    "#Creating RFM features with subset of customerID\n",
    "RFM = data.groupby('Customer ID').agg({'InvoiceDate': lambda x: (Latest_Date - x.max()).days, \n",
    "                                                 'Invoice': lambda x: x.nunique(), \n",
    "                                                 \"Revenue\": lambda x: x.sum()})\n",
    "                                \n",
    "RFM['InvoiceDate'] = RFM['InvoiceDate'].astype(int)\n",
    "\n",
    "#Renaming column names to Recency, Frequency and Monetary\n",
    "RFM.rename(columns={'InvoiceDate': 'Recency', \n",
    "                         'Invoice': 'Frequency', \n",
    "                         'Revenue': 'Monetary'}, inplace=True)\n",
    "\n",
    "RFM.reset_index().head()"
   ]
  },
  {
   "cell_type": "markdown",
   "metadata": {},
   "source": [
    "# new feature- interpurchase time\n",
    "\n",
    "<p style= \"font-family:Georgia;color:#000000;font-size:110%;text-align:center;\">The Fourth varibale of RFM, InterPurchase Time, is a measure of average time gap between total shopping trips by a customer. The Interpurchase Time is calcluted as fallows : </p>\n",
    "\n",
    "<p style= \"font-family:Georgia;color:#000000;font-size:110%;text-align:center;\">T = L/(F-1) = (Tn - T1)/(F-1) </p>\n",
    "\n",
    "<div style=\"text-align: left;\">\n",
    "  <ul style=\"list-style-type: disc; font-family: Georgia; color: #000000; font-size: 110%;\">\n",
    "    <li>T --> Interpurchase Time</li>\n",
    "    <li>L --> Shopping Cycle</li>\n",
    "    <li>F --> Frequency</li>\n",
    "    <li>T1 --> First purchase</li>\n",
    "    <li>Tn --> Last purchase</li>\n",
    "    \n",
    "      \n",
    "  </ul>\n",
    "</div>\n",
    "\n",
    "Note: We consider only those customers who made purchase more than once."
   ]
  },
  {
   "cell_type": "code",
   "execution_count": 31,
   "metadata": {
    "execution": {
     "iopub.execute_input": "2023-07-08T14:09:08.251181Z",
     "iopub.status.busy": "2023-07-08T14:09:08.250796Z",
     "iopub.status.idle": "2023-07-08T14:09:08.266294Z",
     "shell.execute_reply": "2023-07-08T14:09:08.265187Z",
     "shell.execute_reply.started": "2023-07-08T14:09:08.251146Z"
    }
   },
   "outputs": [
    {
     "data": {
      "text/html": [
       "<style type=\"text/css\">\n",
       "</style>\n",
       "<table id=\"T_f3db7\">\n",
       "  <thead>\n",
       "    <tr>\n",
       "      <th class=\"blank level0\" >&nbsp;</th>\n",
       "      <th id=\"T_f3db7_level0_col0\" class=\"col_heading level0 col0\" >Recency</th>\n",
       "      <th id=\"T_f3db7_level0_col1\" class=\"col_heading level0 col1\" >Frequency</th>\n",
       "      <th id=\"T_f3db7_level0_col2\" class=\"col_heading level0 col2\" >Monetary</th>\n",
       "    </tr>\n",
       "    <tr>\n",
       "      <th class=\"index_name level0\" >Customer ID</th>\n",
       "      <th class=\"blank col0\" >&nbsp;</th>\n",
       "      <th class=\"blank col1\" >&nbsp;</th>\n",
       "      <th class=\"blank col2\" >&nbsp;</th>\n",
       "    </tr>\n",
       "  </thead>\n",
       "  <tbody>\n",
       "    <tr>\n",
       "      <th id=\"T_f3db7_level0_row0\" class=\"row_heading level0 row0\" >12346.000000</th>\n",
       "      <td id=\"T_f3db7_row0_col0\" class=\"data row0 col0\" >325</td>\n",
       "      <td id=\"T_f3db7_row0_col1\" class=\"data row0 col1\" >12</td>\n",
       "      <td id=\"T_f3db7_row0_col2\" class=\"data row0 col2\" >745.700000</td>\n",
       "    </tr>\n",
       "    <tr>\n",
       "      <th id=\"T_f3db7_level0_row1\" class=\"row_heading level0 row1\" >12347.000000</th>\n",
       "      <td id=\"T_f3db7_row1_col0\" class=\"data row1 col0\" >39</td>\n",
       "      <td id=\"T_f3db7_row1_col1\" class=\"data row1 col1\" >7</td>\n",
       "      <td id=\"T_f3db7_row1_col2\" class=\"data row1 col2\" >4696.710000</td>\n",
       "    </tr>\n",
       "    <tr>\n",
       "      <th id=\"T_f3db7_level0_row2\" class=\"row_heading level0 row2\" >12348.000000</th>\n",
       "      <td id=\"T_f3db7_row2_col0\" class=\"data row2 col0\" >75</td>\n",
       "      <td id=\"T_f3db7_row2_col1\" class=\"data row2 col1\" >5</td>\n",
       "      <td id=\"T_f3db7_row2_col2\" class=\"data row2 col2\" >1991.860000</td>\n",
       "    </tr>\n",
       "    <tr>\n",
       "      <th id=\"T_f3db7_level0_row3\" class=\"row_heading level0 row3\" >12349.000000</th>\n",
       "      <td id=\"T_f3db7_row3_col0\" class=\"data row3 col0\" >18</td>\n",
       "      <td id=\"T_f3db7_row3_col1\" class=\"data row3 col1\" >4</td>\n",
       "      <td id=\"T_f3db7_row3_col2\" class=\"data row3 col2\" >3786.500000</td>\n",
       "    </tr>\n",
       "    <tr>\n",
       "      <th id=\"T_f3db7_level0_row4\" class=\"row_heading level0 row4\" >12352.000000</th>\n",
       "      <td id=\"T_f3db7_row4_col0\" class=\"data row4 col0\" >36</td>\n",
       "      <td id=\"T_f3db7_row4_col1\" class=\"data row4 col1\" >10</td>\n",
       "      <td id=\"T_f3db7_row4_col2\" class=\"data row4 col2\" >2098.940000</td>\n",
       "    </tr>\n",
       "  </tbody>\n",
       "</table>\n"
      ],
      "text/plain": [
       "<pandas.io.formats.style.Styler at 0x16a8e7090>"
      ]
     },
     "execution_count": 31,
     "metadata": {},
     "output_type": "execute_result"
    }
   ],
   "source": [
    "RFM = RFM[(RFM[\"Frequency\"]>1)]\n",
    "RFM.head().style.set_properties()"
   ]
  },
  {
   "cell_type": "code",
   "execution_count": 18,
   "metadata": {
    "execution": {
     "iopub.execute_input": "2023-07-08T14:09:08.268051Z",
     "iopub.status.busy": "2023-07-08T14:09:08.267708Z",
     "iopub.status.idle": "2023-07-08T14:09:09.365709Z",
     "shell.execute_reply": "2023-07-08T14:09:09.364647Z",
     "shell.execute_reply.started": "2023-07-08T14:09:08.268005Z"
    }
   },
   "outputs": [],
   "source": [
    "Shopping_Cycle = data.groupby('Customer ID').agg({'InvoiceDate': lambda x: ((x.max() - x.min()).days)})"
   ]
  },
  {
   "cell_type": "code",
   "execution_count": 32,
   "metadata": {
    "execution": {
     "iopub.execute_input": "2023-07-08T14:09:09.367559Z",
     "iopub.status.busy": "2023-07-08T14:09:09.367199Z",
     "iopub.status.idle": "2023-07-08T14:09:09.381845Z",
     "shell.execute_reply": "2023-07-08T14:09:09.380911Z",
     "shell.execute_reply.started": "2023-07-08T14:09:09.367526Z"
    }
   },
   "outputs": [
    {
     "data": {
      "text/html": [
       "<style type=\"text/css\">\n",
       "</style>\n",
       "<table id=\"T_aab4e\">\n",
       "  <thead>\n",
       "    <tr>\n",
       "      <th class=\"blank level0\" >&nbsp;</th>\n",
       "      <th id=\"T_aab4e_level0_col0\" class=\"col_heading level0 col0\" >Recency</th>\n",
       "      <th id=\"T_aab4e_level0_col1\" class=\"col_heading level0 col1\" >Frequency</th>\n",
       "      <th id=\"T_aab4e_level0_col2\" class=\"col_heading level0 col2\" >Monetary</th>\n",
       "      <th id=\"T_aab4e_level0_col3\" class=\"col_heading level0 col3\" >Shopping_Cycle</th>\n",
       "    </tr>\n",
       "    <tr>\n",
       "      <th class=\"index_name level0\" >Customer ID</th>\n",
       "      <th class=\"blank col0\" >&nbsp;</th>\n",
       "      <th class=\"blank col1\" >&nbsp;</th>\n",
       "      <th class=\"blank col2\" >&nbsp;</th>\n",
       "      <th class=\"blank col3\" >&nbsp;</th>\n",
       "    </tr>\n",
       "  </thead>\n",
       "  <tbody>\n",
       "    <tr>\n",
       "      <th id=\"T_aab4e_level0_row0\" class=\"row_heading level0 row0\" >12346.000000</th>\n",
       "      <td id=\"T_aab4e_row0_col0\" class=\"data row0 col0\" >325</td>\n",
       "      <td id=\"T_aab4e_row0_col1\" class=\"data row0 col1\" >12</td>\n",
       "      <td id=\"T_aab4e_row0_col2\" class=\"data row0 col2\" >745.700000</td>\n",
       "      <td id=\"T_aab4e_row0_col3\" class=\"data row0 col3\" >400</td>\n",
       "    </tr>\n",
       "    <tr>\n",
       "      <th id=\"T_aab4e_level0_row1\" class=\"row_heading level0 row1\" >12347.000000</th>\n",
       "      <td id=\"T_aab4e_row1_col0\" class=\"data row1 col0\" >39</td>\n",
       "      <td id=\"T_aab4e_row1_col1\" class=\"data row1 col1\" >7</td>\n",
       "      <td id=\"T_aab4e_row1_col2\" class=\"data row1 col2\" >4696.710000</td>\n",
       "      <td id=\"T_aab4e_row1_col3\" class=\"data row1 col3\" >364</td>\n",
       "    </tr>\n",
       "    <tr>\n",
       "      <th id=\"T_aab4e_level0_row2\" class=\"row_heading level0 row2\" >12348.000000</th>\n",
       "      <td id=\"T_aab4e_row2_col0\" class=\"data row2 col0\" >75</td>\n",
       "      <td id=\"T_aab4e_row2_col1\" class=\"data row2 col1\" >5</td>\n",
       "      <td id=\"T_aab4e_row2_col2\" class=\"data row2 col2\" >1991.860000</td>\n",
       "      <td id=\"T_aab4e_row2_col3\" class=\"data row2 col3\" >362</td>\n",
       "    </tr>\n",
       "    <tr>\n",
       "      <th id=\"T_aab4e_level0_row3\" class=\"row_heading level0 row3\" >12349.000000</th>\n",
       "      <td id=\"T_aab4e_row3_col0\" class=\"data row3 col0\" >18</td>\n",
       "      <td id=\"T_aab4e_row3_col1\" class=\"data row3 col1\" >4</td>\n",
       "      <td id=\"T_aab4e_row3_col2\" class=\"data row3 col2\" >3786.500000</td>\n",
       "      <td id=\"T_aab4e_row3_col3\" class=\"data row3 col3\" >570</td>\n",
       "    </tr>\n",
       "    <tr>\n",
       "      <th id=\"T_aab4e_level0_row4\" class=\"row_heading level0 row4\" >12352.000000</th>\n",
       "      <td id=\"T_aab4e_row4_col0\" class=\"data row4 col0\" >36</td>\n",
       "      <td id=\"T_aab4e_row4_col1\" class=\"data row4 col1\" >10</td>\n",
       "      <td id=\"T_aab4e_row4_col2\" class=\"data row4 col2\" >2098.940000</td>\n",
       "      <td id=\"T_aab4e_row4_col3\" class=\"data row4 col3\" >356</td>\n",
       "    </tr>\n",
       "  </tbody>\n",
       "</table>\n"
      ],
      "text/plain": [
       "<pandas.io.formats.style.Styler at 0x16a8dc290>"
      ]
     },
     "execution_count": 32,
     "metadata": {},
     "output_type": "execute_result"
    }
   ],
   "source": [
    "RFM[\"Shopping_Cycle\"] = Shopping_Cycle\n",
    "RFM.head().style.set_properties()"
   ]
  },
  {
   "cell_type": "code",
   "execution_count": 33,
   "metadata": {
    "execution": {
     "iopub.execute_input": "2023-07-08T14:09:09.384199Z",
     "iopub.status.busy": "2023-07-08T14:09:09.383229Z",
     "iopub.status.idle": "2023-07-08T14:09:09.399755Z",
     "shell.execute_reply": "2023-07-08T14:09:09.398607Z",
     "shell.execute_reply.started": "2023-07-08T14:09:09.384164Z"
    }
   },
   "outputs": [
    {
     "data": {
      "text/html": [
       "<style type=\"text/css\">\n",
       "</style>\n",
       "<table id=\"T_f27b3\">\n",
       "  <thead>\n",
       "    <tr>\n",
       "      <th class=\"blank level0\" >&nbsp;</th>\n",
       "      <th id=\"T_f27b3_level0_col0\" class=\"col_heading level0 col0\" >Recency</th>\n",
       "      <th id=\"T_f27b3_level0_col1\" class=\"col_heading level0 col1\" >Frequency</th>\n",
       "      <th id=\"T_f27b3_level0_col2\" class=\"col_heading level0 col2\" >Monetary</th>\n",
       "      <th id=\"T_f27b3_level0_col3\" class=\"col_heading level0 col3\" >Interpurchase_Time</th>\n",
       "    </tr>\n",
       "    <tr>\n",
       "      <th class=\"index_name level0\" >Customer ID</th>\n",
       "      <th class=\"blank col0\" >&nbsp;</th>\n",
       "      <th class=\"blank col1\" >&nbsp;</th>\n",
       "      <th class=\"blank col2\" >&nbsp;</th>\n",
       "      <th class=\"blank col3\" >&nbsp;</th>\n",
       "    </tr>\n",
       "  </thead>\n",
       "  <tbody>\n",
       "    <tr>\n",
       "      <th id=\"T_f27b3_level0_row0\" class=\"row_heading level0 row0\" >12346.000000</th>\n",
       "      <td id=\"T_f27b3_row0_col0\" class=\"data row0 col0\" >325</td>\n",
       "      <td id=\"T_f27b3_row0_col1\" class=\"data row0 col1\" >12</td>\n",
       "      <td id=\"T_f27b3_row0_col2\" class=\"data row0 col2\" >745.700000</td>\n",
       "      <td id=\"T_f27b3_row0_col3\" class=\"data row0 col3\" >33</td>\n",
       "    </tr>\n",
       "    <tr>\n",
       "      <th id=\"T_f27b3_level0_row1\" class=\"row_heading level0 row1\" >12347.000000</th>\n",
       "      <td id=\"T_f27b3_row1_col0\" class=\"data row1 col0\" >39</td>\n",
       "      <td id=\"T_f27b3_row1_col1\" class=\"data row1 col1\" >7</td>\n",
       "      <td id=\"T_f27b3_row1_col2\" class=\"data row1 col2\" >4696.710000</td>\n",
       "      <td id=\"T_f27b3_row1_col3\" class=\"data row1 col3\" >52</td>\n",
       "    </tr>\n",
       "    <tr>\n",
       "      <th id=\"T_f27b3_level0_row2\" class=\"row_heading level0 row2\" >12348.000000</th>\n",
       "      <td id=\"T_f27b3_row2_col0\" class=\"data row2 col0\" >75</td>\n",
       "      <td id=\"T_f27b3_row2_col1\" class=\"data row2 col1\" >5</td>\n",
       "      <td id=\"T_f27b3_row2_col2\" class=\"data row2 col2\" >1991.860000</td>\n",
       "      <td id=\"T_f27b3_row2_col3\" class=\"data row2 col3\" >72</td>\n",
       "    </tr>\n",
       "    <tr>\n",
       "      <th id=\"T_f27b3_level0_row3\" class=\"row_heading level0 row3\" >12349.000000</th>\n",
       "      <td id=\"T_f27b3_row3_col0\" class=\"data row3 col0\" >18</td>\n",
       "      <td id=\"T_f27b3_row3_col1\" class=\"data row3 col1\" >4</td>\n",
       "      <td id=\"T_f27b3_row3_col2\" class=\"data row3 col2\" >3786.500000</td>\n",
       "      <td id=\"T_f27b3_row3_col3\" class=\"data row3 col3\" >142</td>\n",
       "    </tr>\n",
       "    <tr>\n",
       "      <th id=\"T_f27b3_level0_row4\" class=\"row_heading level0 row4\" >12352.000000</th>\n",
       "      <td id=\"T_f27b3_row4_col0\" class=\"data row4 col0\" >36</td>\n",
       "      <td id=\"T_f27b3_row4_col1\" class=\"data row4 col1\" >10</td>\n",
       "      <td id=\"T_f27b3_row4_col2\" class=\"data row4 col2\" >2098.940000</td>\n",
       "      <td id=\"T_f27b3_row4_col3\" class=\"data row4 col3\" >35</td>\n",
       "    </tr>\n",
       "  </tbody>\n",
       "</table>\n"
      ],
      "text/plain": [
       "<pandas.io.formats.style.Styler at 0x16a8dfc90>"
      ]
     },
     "execution_count": 33,
     "metadata": {},
     "output_type": "execute_result"
    }
   ],
   "source": [
    "RFM[\"Interpurchase_Time\"] = RFM[\"Shopping_Cycle\"] // RFM[\"Frequency\"]\n",
    "RFMT = RFM[[\"Recency\",\"Frequency\",\"Monetary\",\"Interpurchase_Time\"]]\n",
    "RFMT.head().style.set_properties()"
   ]
  },
  {
   "cell_type": "markdown",
   "metadata": {},
   "source": [
    "# K means algorithm"
   ]
  },
  {
   "cell_type": "code",
   "execution_count": 34,
   "metadata": {
    "execution": {
     "iopub.execute_input": "2023-07-08T14:09:09.401539Z",
     "iopub.status.busy": "2023-07-08T14:09:09.401103Z",
     "iopub.status.idle": "2023-07-08T14:09:11.368727Z",
     "shell.execute_reply": "2023-07-08T14:09:11.367771Z",
     "shell.execute_reply.started": "2023-07-08T14:09:09.401507Z"
    }
   },
   "outputs": [
    {
     "data": {
      "image/png": "[encoded data removed]",
      "text/plain": [
       "<Figure size 1000x500 with 2 Axes>"
      ]
     },
     "metadata": {},
     "output_type": "display_data"
    },
    {
     "name": "stdout",
     "output_type": "stream",
     "text": [
      "Therefore K = 4\n"
     ]
    }
   ],
   "source": [
    "# Finding initial K value using Elbow Method\n",
    "plt.figure(figsize=(10,5))\n",
    "ax = plt.axes()\n",
    "\n",
    "Elbow_M = KElbowVisualizer(KMeans(), k=10) \n",
    "Elbow_M.fit(RFMT)\n",
    "Elbow_M.show()\n",
    "print(\"Therefore K = 4\")"
   ]
  },
  {
   "cell_type": "code",
   "execution_count": 22,
   "metadata": {
    "execution": {
     "iopub.execute_input": "2023-07-08T14:09:11.372054Z",
     "iopub.status.busy": "2023-07-08T14:09:11.370161Z",
     "iopub.status.idle": "2023-07-08T14:09:11.568778Z",
     "shell.execute_reply": "2023-07-08T14:09:11.567695Z",
     "shell.execute_reply.started": "2023-07-08T14:09:11.372019Z"
    }
   },
   "outputs": [
    {
     "data": {
      "text/html": [
       "<style>#sk-container-id-1 {color: black;}#sk-container-id-1 pre{padding: 0;}#sk-container-id-1 div.sk-toggleable {background-color: white;}#sk-container-id-1 label.sk-toggleable__label {cursor: pointer;display: block;width: 100%;margin-bottom: 0;padding: 0.3em;box-sizing: border-box;text-align: center;}#sk-container-id-1 label.sk-toggleable__label-arrow:before {content: \"▸\";float: left;margin-right: 0.25em;color: #696969;}#sk-container-id-1 label.sk-toggleable__label-arrow:hover:before {color: black;}#sk-container-id-1 div.sk-estimator:hover label.sk-toggleable__label-arrow:before {color: black;}#sk-container-id-1 div.sk-toggleable__content {max-height: 0;max-width: 0;overflow: hidden;text-align: left;background-color: #f0f8ff;}#sk-container-id-1 div.sk-toggleable__content pre {margin: 0.2em;color: black;border-radius: 0.25em;background-color: #f0f8ff;}#sk-container-id-1 input.sk-toggleable__control:checked~div.sk-toggleable__content {max-height: 200px;max-width: 100%;overflow: auto;}#sk-container-id-1 input.sk-toggleable__control:checked~label.sk-toggleable__label-arrow:before {content: \"▾\";}#sk-container-id-1 div.sk-estimator input.sk-toggleable__control:checked~label.sk-toggleable__label {background-color: #d4ebff;}#sk-container-id-1 div.sk-label input.sk-toggleable__control:checked~label.sk-toggleable__label {background-color: #d4ebff;}#sk-container-id-1 input.sk-hidden--visually {border: 0;clip: rect(1px 1px 1px 1px);clip: rect(1px, 1px, 1px, 1px);height: 1px;margin: -1px;overflow: hidden;padding: 0;position: absolute;width: 1px;}#sk-container-id-1 div.sk-estimator {font-family: monospace;background-color: #f0f8ff;border: 1px dotted black;border-radius: 0.25em;box-sizing: border-box;margin-bottom: 0.5em;}#sk-container-id-1 div.sk-estimator:hover {background-color: #d4ebff;}#sk-container-id-1 div.sk-parallel-item::after {content: \"\";width: 100%;border-bottom: 1px solid gray;flex-grow: 1;}#sk-container-id-1 div.sk-label:hover label.sk-toggleable__label {background-color: #d4ebff;}#sk-container-id-1 div.sk-serial::before {content: \"\";position: absolute;border-left: 1px solid gray;box-sizing: border-box;top: 0;bottom: 0;left: 50%;z-index: 0;}#sk-container-id-1 div.sk-serial {display: flex;flex-direction: column;align-items: center;background-color: white;padding-right: 0.2em;padding-left: 0.2em;position: relative;}#sk-container-id-1 div.sk-item {position: relative;z-index: 1;}#sk-container-id-1 div.sk-parallel {display: flex;align-items: stretch;justify-content: center;background-color: white;position: relative;}#sk-container-id-1 div.sk-item::before, #sk-container-id-1 div.sk-parallel-item::before {content: \"\";position: absolute;border-left: 1px solid gray;box-sizing: border-box;top: 0;bottom: 0;left: 50%;z-index: -1;}#sk-container-id-1 div.sk-parallel-item {display: flex;flex-direction: column;z-index: 1;position: relative;background-color: white;}#sk-container-id-1 div.sk-parallel-item:first-child::after {align-self: flex-end;width: 50%;}#sk-container-id-1 div.sk-parallel-item:last-child::after {align-self: flex-start;width: 50%;}#sk-container-id-1 div.sk-parallel-item:only-child::after {width: 0;}#sk-container-id-1 div.sk-dashed-wrapped {border: 1px dashed gray;margin: 0 0.4em 0.5em 0.4em;box-sizing: border-box;padding-bottom: 0.4em;background-color: white;}#sk-container-id-1 div.sk-label label {font-family: monospace;font-weight: bold;display: inline-block;line-height: 1.2em;}#sk-container-id-1 div.sk-label-container {text-align: center;}#sk-container-id-1 div.sk-container {/* jupyter's `normalize.less` sets `[hidden] { display: none; }` but bootstrap.min.css set `[hidden] { display: none !important; }` so we also need the `!important` here to be able to override the default hidden behavior on the sphinx rendered scikit-learn.org. See: https://github.com/scikit-learn/scikit-learn/issues/21755 */display: inline-block !important;position: relative;}#sk-container-id-1 div.sk-text-repr-fallback {display: none;}</style><div id=\"sk-container-id-1\" class=\"sk-top-container\"><div class=\"sk-text-repr-fallback\"><pre>KMeans(max_iter=50, n_clusters=4)</pre><b>In a Jupyter environment, please rerun this cell to show the HTML representation or trust the notebook. <br />On GitHub, the HTML representation is unable to render, please try loading this page with nbviewer.org.</b></div><div class=\"sk-container\" hidden><div class=\"sk-item\"><div class=\"sk-estimator sk-toggleable\"><input class=\"sk-toggleable__control sk-hidden--visually\" id=\"sk-estimator-id-1\" type=\"checkbox\" checked><label for=\"sk-estimator-id-1\" class=\"sk-toggleable__label sk-toggleable__label-arrow\">KMeans</label><div class=\"sk-toggleable__content\"><pre>KMeans(max_iter=50, n_clusters=4)</pre></div></div></div></div></div>"
      ],
      "text/plain": [
       "KMeans(max_iter=50, n_clusters=4)"
      ]
     },
     "execution_count": 22,
     "metadata": {},
     "output_type": "execute_result"
    }
   ],
   "source": [
    "#Fitting KMeans Model\n",
    "kmeans = KMeans(n_clusters=4,max_iter=50)\n",
    "kmeans.fit(RFMT)"
   ]
  },
  {
   "cell_type": "code",
   "execution_count": 35,
   "metadata": {
    "execution": {
     "iopub.execute_input": "2023-07-08T14:09:11.576768Z",
     "iopub.status.busy": "2023-07-08T14:09:11.573725Z",
     "iopub.status.idle": "2023-07-08T14:09:11.617138Z",
     "shell.execute_reply": "2023-07-08T14:09:11.615981Z",
     "shell.execute_reply.started": "2023-07-08T14:09:11.576718Z"
    }
   },
   "outputs": [
    {
     "data": {
      "text/html": [
       "<style type=\"text/css\">\n",
       "</style>\n",
       "<table id=\"T_6b378\">\n",
       "  <thead>\n",
       "    <tr>\n",
       "      <th class=\"blank level0\" >&nbsp;</th>\n",
       "      <th id=\"T_6b378_level0_col0\" class=\"col_heading level0 col0\" >Recency</th>\n",
       "      <th id=\"T_6b378_level0_col1\" class=\"col_heading level0 col1\" >Frequency</th>\n",
       "      <th id=\"T_6b378_level0_col2\" class=\"col_heading level0 col2\" >Monetary</th>\n",
       "      <th id=\"T_6b378_level0_col3\" class=\"col_heading level0 col3\" >Interpurchase_Time</th>\n",
       "      <th id=\"T_6b378_level0_col4\" class=\"col_heading level0 col4\" >Clusters</th>\n",
       "    </tr>\n",
       "    <tr>\n",
       "      <th class=\"index_name level0\" >Customer ID</th>\n",
       "      <th class=\"blank col0\" >&nbsp;</th>\n",
       "      <th class=\"blank col1\" >&nbsp;</th>\n",
       "      <th class=\"blank col2\" >&nbsp;</th>\n",
       "      <th class=\"blank col3\" >&nbsp;</th>\n",
       "      <th class=\"blank col4\" >&nbsp;</th>\n",
       "    </tr>\n",
       "  </thead>\n",
       "  <tbody>\n",
       "    <tr>\n",
       "      <th id=\"T_6b378_level0_row0\" class=\"row_heading level0 row0\" >12346.000000</th>\n",
       "      <td id=\"T_6b378_row0_col0\" class=\"data row0 col0\" >325</td>\n",
       "      <td id=\"T_6b378_row0_col1\" class=\"data row0 col1\" >12</td>\n",
       "      <td id=\"T_6b378_row0_col2\" class=\"data row0 col2\" >745.700000</td>\n",
       "      <td id=\"T_6b378_row0_col3\" class=\"data row0 col3\" >33</td>\n",
       "      <td id=\"T_6b378_row0_col4\" class=\"data row0 col4\" >1</td>\n",
       "    </tr>\n",
       "    <tr>\n",
       "      <th id=\"T_6b378_level0_row1\" class=\"row_heading level0 row1\" >12347.000000</th>\n",
       "      <td id=\"T_6b378_row1_col0\" class=\"data row1 col0\" >39</td>\n",
       "      <td id=\"T_6b378_row1_col1\" class=\"data row1 col1\" >7</td>\n",
       "      <td id=\"T_6b378_row1_col2\" class=\"data row1 col2\" >4696.710000</td>\n",
       "      <td id=\"T_6b378_row1_col3\" class=\"data row1 col3\" >52</td>\n",
       "      <td id=\"T_6b378_row1_col4\" class=\"data row1 col4\" >1</td>\n",
       "    </tr>\n",
       "    <tr>\n",
       "      <th id=\"T_6b378_level0_row2\" class=\"row_heading level0 row2\" >12348.000000</th>\n",
       "      <td id=\"T_6b378_row2_col0\" class=\"data row2 col0\" >75</td>\n",
       "      <td id=\"T_6b378_row2_col1\" class=\"data row2 col1\" >5</td>\n",
       "      <td id=\"T_6b378_row2_col2\" class=\"data row2 col2\" >1991.860000</td>\n",
       "      <td id=\"T_6b378_row2_col3\" class=\"data row2 col3\" >72</td>\n",
       "      <td id=\"T_6b378_row2_col4\" class=\"data row2 col4\" >1</td>\n",
       "    </tr>\n",
       "    <tr>\n",
       "      <th id=\"T_6b378_level0_row3\" class=\"row_heading level0 row3\" >12349.000000</th>\n",
       "      <td id=\"T_6b378_row3_col0\" class=\"data row3 col0\" >18</td>\n",
       "      <td id=\"T_6b378_row3_col1\" class=\"data row3 col1\" >4</td>\n",
       "      <td id=\"T_6b378_row3_col2\" class=\"data row3 col2\" >3786.500000</td>\n",
       "      <td id=\"T_6b378_row3_col3\" class=\"data row3 col3\" >142</td>\n",
       "      <td id=\"T_6b378_row3_col4\" class=\"data row3 col4\" >1</td>\n",
       "    </tr>\n",
       "    <tr>\n",
       "      <th id=\"T_6b378_level0_row4\" class=\"row_heading level0 row4\" >12352.000000</th>\n",
       "      <td id=\"T_6b378_row4_col0\" class=\"data row4 col0\" >36</td>\n",
       "      <td id=\"T_6b378_row4_col1\" class=\"data row4 col1\" >10</td>\n",
       "      <td id=\"T_6b378_row4_col2\" class=\"data row4 col2\" >2098.940000</td>\n",
       "      <td id=\"T_6b378_row4_col3\" class=\"data row4 col3\" >35</td>\n",
       "      <td id=\"T_6b378_row4_col4\" class=\"data row4 col4\" >1</td>\n",
       "    </tr>\n",
       "  </tbody>\n",
       "</table>\n"
      ],
      "text/plain": [
       "<pandas.io.formats.style.Styler at 0x16aa2ba90>"
      ]
     },
     "execution_count": 35,
     "metadata": {},
     "output_type": "execute_result"
    }
   ],
   "source": [
    "RFMT[\"Clusters\"]=kmeans.labels_\n",
    "RFMT.head().style.set_properties()"
   ]
  },
  {
   "cell_type": "markdown",
   "metadata": {
    "execution": {
     "iopub.execute_input": "2023-07-08T13:07:42.913964Z",
     "iopub.status.busy": "2023-07-08T13:07:42.913316Z",
     "iopub.status.idle": "2023-07-08T13:07:42.921315Z",
     "shell.execute_reply": "2023-07-08T13:07:42.920008Z",
     "shell.execute_reply.started": "2023-07-08T13:07:42.91393Z"
    }
   },
   "source": [
    "# Model evaluation"
   ]
  },
  {
   "cell_type": "code",
   "execution_count": 24,
   "metadata": {
    "execution": {
     "iopub.execute_input": "2023-07-08T14:09:11.623209Z",
     "iopub.status.busy": "2023-07-08T14:09:11.622635Z",
     "iopub.status.idle": "2023-07-08T14:09:11.634571Z",
     "shell.execute_reply": "2023-07-08T14:09:11.633408Z",
     "shell.execute_reply.started": "2023-07-08T14:09:11.623161Z"
    }
   },
   "outputs": [
    {
     "data": {
      "text/plain": [
       "array([[3.81234568e+01, 5.37901235e+01, 3.55362771e+04, 1.86172840e+01],\n",
       "       [1.50630572e+02, 6.96753876e+00, 2.41315248e+03, 6.99583333e+01],\n",
       "       [1.35000000e+01, 1.45500000e+02, 5.12989903e+05, 4.50000000e+00],\n",
       "       [1.26000000e+01, 1.41100000e+02, 1.72089457e+05, 7.10000000e+00]])"
      ]
     },
     "execution_count": 24,
     "metadata": {},
     "output_type": "execute_result"
    }
   ],
   "source": [
    "# how well the clusters are?:\n",
    "# centriods\n",
    "kmeans.cluster_centers_"
   ]
  },
  {
   "cell_type": "code",
   "execution_count": 37,
   "metadata": {
    "execution": {
     "iopub.execute_input": "2023-07-08T14:09:11.637249Z",
     "iopub.status.busy": "2023-07-08T14:09:11.636522Z",
     "iopub.status.idle": "2023-07-08T14:09:12.066945Z",
     "shell.execute_reply": "2023-07-08T14:09:12.066059Z",
     "shell.execute_reply.started": "2023-07-08T14:09:11.637205Z"
    }
   },
   "outputs": [
    {
     "data": {
      "text/plain": [
       "<function matplotlib.pyplot.show(close=None, block=None)>"
      ]
     },
     "execution_count": 37,
     "metadata": {},
     "output_type": "execute_result"
    },
    {
     "data": {
      "image/png": "[encoded data removed]",
      "text/plain": [
       "<Figure size 1000x500 with 1 Axes>"
      ]
     },
     "metadata": {},
     "output_type": "display_data"
    }
   ],
   "source": [
    "# grouping the data in accorandance with each cluster seperately\n",
    "one = RFMT[RFMT[\"Clusters\"]==0]\n",
    "two = RFMT[RFMT[\"Clusters\"]==1]\n",
    "three = RFMT[RFMT[\"Clusters\"]==2]\n",
    "four = RFMT[RFMT[\"Clusters\"]==3]\n",
    "\n",
    "#Checking the quality of clustering in the data set\n",
    "plt.figure(figsize=(10,5))\n",
    "ax = plt.axes()\n",
    "\n",
    "plt.scatter(one[\"Recency\"],one[\"Frequency\"],color='green')\n",
    "plt.scatter(two[\"Recency\"],two[\"Frequency\"],color='red')\n",
    "plt.scatter(three[\"Recency\"],three[\"Frequency\"],color='grey')\n",
    "plt.scatter(four[\"Recency\"],four[\"Frequency\"],color='blue')\n",
    "plt.scatter(kmeans.cluster_centers_[:,0],kmeans.cluster_centers_[:,1],color=\"yellow\",marker=\"*\",label=\"centroid\")\n",
    "plt.legend()\n",
    "plt.show "
   ]
  },
  {
   "cell_type": "markdown",
   "metadata": {},
   "source": [
    "Silhouette Coefficient or silhouette score is a metric used to calculate the goodness of a clustering technique. Its value ranges from -1 to 1. \n",
    "    Score closer to 1, higher the cluster distinguished. </p>"
   ]
  },
  {
   "cell_type": "code",
   "execution_count": 36,
   "metadata": {
    "execution": {
     "iopub.execute_input": "2023-07-08T14:09:12.068889Z",
     "iopub.status.busy": "2023-07-08T14:09:12.068552Z",
     "iopub.status.idle": "2023-07-08T14:09:12.408851Z",
     "shell.execute_reply": "2023-07-08T14:09:12.407858Z",
     "shell.execute_reply.started": "2023-07-08T14:09:12.068857Z"
    }
   },
   "outputs": [
    {
     "name": "stdout",
     "output_type": "stream",
     "text": [
      "Silhouette score : 0.9009524644265383\n"
     ]
    }
   ],
   "source": [
    "from sklearn.metrics import silhouette_score\n",
    "print(\"Silhouette score :\",silhouette_score(RFMT, kmeans.labels_, metric='euclidean'))"
   ]
  },
  {
   "cell_type": "code",
   "execution_count": null,
   "metadata": {},
   "outputs": [],
   "source": []
  }
 ],
 "metadata": {
  "kaggle": {
   "accelerator": "gpu",
   "dataSources": [
    {
     "datasetId": 3466,
     "sourceId": 5596,
     "sourceType": "datasetVersion"
    },
    {
     "datasetId": 4329,
     "sourceId": 6680,
     "sourceType": "datasetVersion"
    },
    {
     "datasetId": 10606,
     "sourceId": 14845,
     "sourceType": "datasetVersion"
    },
    {
     "datasetId": 397875,
     "sourceId": 764509,
     "sourceType": "datasetVersion"
    },
    {
     "datasetId": 421200,
     "sourceId": 804181,
     "sourceType": "datasetVersion"
    },
    {
     "datasetId": 430934,
     "sourceId": 821251,
     "sourceType": "datasetVersion"
    },
    {
     "datasetId": 538714,
     "sourceId": 984366,
     "sourceType": "datasetVersion"
    },
    {
     "datasetId": 758094,
     "sourceId": 1309305,
     "sourceType": "datasetVersion"
    },
    {
     "datasetId": 1107540,
     "sourceId": 1861253,
     "sourceType": "datasetVersion"
    },
    {
     "datasetId": 1267762,
     "sourceId": 2113058,
     "sourceType": "datasetVersion"
    },
    {
     "datasetId": 745526,
     "sourceId": 2331945,
     "sourceType": "datasetVersion"
    },
    {
     "datasetId": 1546318,
     "sourceId": 2549419,
     "sourceType": "datasetVersion"
    },
    {
     "datasetId": 1607581,
     "sourceId": 2643768,
     "sourceType": "datasetVersion"
    },
    {
     "datasetId": 2507108,
     "sourceId": 4254710,
     "sourceType": "datasetVersion"
    },
    {
     "datasetId": 2827948,
     "sourceId": 4877104,
     "sourceType": "datasetVersion"
    },
    {
     "datasetId": 3059016,
     "sourceId": 5256920,
     "sourceType": "datasetVersion"
    },
    {
     "datasetId": 3099871,
     "sourceId": 5338057,
     "sourceType": "datasetVersion"
    },
    {
     "datasetId": 3187021,
     "sourceId": 5528041,
     "sourceType": "datasetVersion"
    }
   ],
   "dockerImageVersionId": 30513,
   "isGpuEnabled": true,
   "isInternetEnabled": false,
   "language": "python",
   "sourceType": "notebook"
  },
  "kernelspec": {
   "display_name": "Python 3 (ipykernel)",
   "language": "python",
   "name": "python3"
  },
  "language_info": {
   "codemirror_mode": {
    "name": "ipython",
    "version": 3
   },
   "file_extension": ".py",
   "mimetype": "text/x-python",
   "name": "python",
   "nbconvert_exporter": "python",
   "pygments_lexer": "ipython3",
   "version": "3.11.5"
  }
 },
 "nbformat": 4,
 "nbformat_minor": 4
}
